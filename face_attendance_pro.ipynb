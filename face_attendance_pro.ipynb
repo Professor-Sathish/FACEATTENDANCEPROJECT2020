{
  "nbformat": 4,
  "nbformat_minor": 0,
  "metadata": {
    "colab": {
      "name": "face attendance pro.ipynb",
      "provenance": [],
      "authorship_tag": "ABX9TyPx7k8LLtHorl/7Kg54L6Qg",
      "include_colab_link": true
    },
    "kernelspec": {
      "name": "python3",
      "display_name": "Python 3"
    },
    "accelerator": "GPU"
  },
  "cells": [
    {
      "cell_type": "markdown",
      "metadata": {
        "id": "view-in-github",
        "colab_type": "text"
      },
      "source": [
        "<a href=\"https://colab.research.google.com/github/Professor-Sathish/FACEATTENDANCEPROJECT2020/blob/master/face_attendance_pro.ipynb\" target=\"_parent\"><img src=\"https://colab.research.google.com/assets/colab-badge.svg\" alt=\"Open In Colab\"/></a>"
      ]
    },
    {
      "cell_type": "code",
      "metadata": {
        "id": "uMBsjuL5RqrX",
        "colab_type": "code",
        "colab": {
          "base_uri": "https://localhost:8080/",
          "height": 318
        },
        "outputId": "e09e253b-00cc-4a34-9e3b-3c5099b5bcd5"
      },
      "source": [
        "#install facerecognition package-API\n",
        "pip install face-recognition"
      ],
      "execution_count": 2,
      "outputs": [
        {
          "output_type": "stream",
          "text": [
            "Collecting face-recognition\n",
            "  Downloading https://files.pythonhosted.org/packages/1e/95/f6c9330f54ab07bfa032bf3715c12455a381083125d8880c43cbe76bb3d0/face_recognition-1.3.0-py2.py3-none-any.whl\n",
            "Requirement already satisfied: Pillow in /usr/local/lib/python3.6/dist-packages (from face-recognition) (7.0.0)\n",
            "Collecting face-recognition-models>=0.3.0\n",
            "\u001b[?25l  Downloading https://files.pythonhosted.org/packages/cf/3b/4fd8c534f6c0d1b80ce0973d01331525538045084c73c153ee6df20224cf/face_recognition_models-0.3.0.tar.gz (100.1MB)\n",
            "\u001b[K     |████████████████████████████████| 100.2MB 110kB/s \n",
            "\u001b[?25hRequirement already satisfied: numpy in /usr/local/lib/python3.6/dist-packages (from face-recognition) (1.18.2)\n",
            "Requirement already satisfied: dlib>=19.7 in /usr/local/lib/python3.6/dist-packages (from face-recognition) (19.18.0)\n",
            "Requirement already satisfied: Click>=6.0 in /usr/local/lib/python3.6/dist-packages (from face-recognition) (7.1.1)\n",
            "Building wheels for collected packages: face-recognition-models\n",
            "  Building wheel for face-recognition-models (setup.py) ... \u001b[?25l\u001b[?25hdone\n",
            "  Created wheel for face-recognition-models: filename=face_recognition_models-0.3.0-py2.py3-none-any.whl size=100566172 sha256=16e1a69ac7bb1be26d790c39ba77cdc90b483c1d27bb9f2d3eee587a3b571eee\n",
            "  Stored in directory: /root/.cache/pip/wheels/d2/99/18/59c6c8f01e39810415c0e63f5bede7d83dfb0ffc039865465f\n",
            "Successfully built face-recognition-models\n",
            "Installing collected packages: face-recognition-models, face-recognition\n",
            "Successfully installed face-recognition-1.3.0 face-recognition-models-0.3.0\n"
          ],
          "name": "stdout"
        }
      ]
    },
    {
      "cell_type": "code",
      "metadata": {
        "id": "CWOZBKh8Sgtl",
        "colab_type": "code",
        "colab": {
          "base_uri": "https://localhost:8080/",
          "height": 125
        },
        "outputId": "b2546125-34a0-47a5-c568-66325eebdb77"
      },
      "source": [
        "#mount drive\n",
        "from google.colab import drive\n",
        "drive.mount('/content/gdrive')"
      ],
      "execution_count": 3,
      "outputs": [
        {
          "output_type": "stream",
          "text": [
            "Go to this URL in a browser: https://accounts.google.com/o/oauth2/auth?client_id=947318989803-6bn6qk8qdgf4n4g3pfee6491hc0brc4i.apps.googleusercontent.com&redirect_uri=urn%3aietf%3awg%3aoauth%3a2.0%3aoob&response_type=code&scope=email%20https%3a%2f%2fwww.googleapis.com%2fauth%2fdocs.test%20https%3a%2f%2fwww.googleapis.com%2fauth%2fdrive%20https%3a%2f%2fwww.googleapis.com%2fauth%2fdrive.photos.readonly%20https%3a%2f%2fwww.googleapis.com%2fauth%2fpeopleapi.readonly\n",
            "\n",
            "Enter your authorization code:\n",
            "··········\n",
            "Mounted at /content/gdrive\n"
          ],
          "name": "stdout"
        }
      ]
    },
    {
      "cell_type": "code",
      "metadata": {
        "id": "O6TwGLR2Smbt",
        "colab_type": "code",
        "colab": {}
      },
      "source": [
        "#facerecognize project dependency modules\n",
        "import face_recognition\n",
        "from PIL import Image,ImageDraw\n",
        "import face_recognition\n",
        "import numpy as np"
      ],
      "execution_count": 0,
      "outputs": []
    },
    {
      "cell_type": "code",
      "metadata": {
        "id": "A_xdjeVPS2P8",
        "colab_type": "code",
        "colab": {}
      },
      "source": [
        "#train the faces\n",
        "sathish = face_recognition.load_image_file(\"/content/gdrive/My Drive/Face Attendance Project 2020 /trainingfaces/sathish.jpg\")\n",
        "sathish_encoding = face_recognition.face_encodings(sathish)[0]\n",
        "selvaprabu = face_recognition.load_image_file(\"/content/gdrive/My Drive/Face Attendance Project 2020 /trainingfaces/selvaprabu.jpg\")\n",
        "selvaprabu_encoding = face_recognition.face_encodings(selvaprabu)[0]\n",
        "perarasan = face_recognition.load_image_file(\"/content/gdrive/My Drive/Face Attendance Project 2020 /trainingfaces/perarasan.jpg\")\n",
        "perarasan_encoding = face_recognition.face_encodings(perarasan)[0]"
      ],
      "execution_count": 0,
      "outputs": []
    },
    {
      "cell_type": "code",
      "metadata": {
        "id": "odTRuyc5S8dH",
        "colab_type": "code",
        "colab": {}
      },
      "source": [
        "#PRE PROCESSING\n",
        "#CREATE KNOWN FACE ENCODING DATASET\n",
        "student_face_encodings = [sathish_encoding,selvaprabu_encoding,perarasan_encoding]\n",
        "student_face_names=[\"sathish\",\"selvaprabu\",\"perarasan\"]"
      ],
      "execution_count": 0,
      "outputs": []
    },
    {
      "cell_type": "code",
      "metadata": {
        "id": "OjGSRAuJTU8q",
        "colab_type": "code",
        "colab": {}
      },
      "source": [
        "# Load the jpg file into a numpy array\n",
        "image = face_recognition.load_image_file(\"/content/gdrive/My Drive/Face Attendance Project 2020 /trainingfaces/frg1.jpg\")"
      ],
      "execution_count": 0,
      "outputs": []
    },
    {
      "cell_type": "code",
      "metadata": {
        "id": "7qditLTgTZ6b",
        "colab_type": "code",
        "colab": {}
      },
      "source": [
        "#FIND THE FACES FROM GROUP PHOTO\n",
        "group_face_locations = face_recognition.face_locations(image,number_of_times_to_upsample=2, model=\"cnn\")\n",
        "#SAMPLING RATE 2\n",
        "#MODEL CNN"
      ],
      "execution_count": 0,
      "outputs": []
    },
    {
      "cell_type": "code",
      "metadata": {
        "id": "6Pae_-7lTieT",
        "colab_type": "code",
        "colab": {}
      },
      "source": [
        "#ENCODING THE FOUNDED FACES FROM GROUP PHOTO \n",
        "group_face_encodings=face_recognition.face_encodings(image,group_face_locations,num_jitters=100)"
      ],
      "execution_count": 0,
      "outputs": []
    },
    {
      "cell_type": "code",
      "metadata": {
        "id": "N_hRE1qKTi10",
        "colab_type": "code",
        "colab": {
          "base_uri": "https://localhost:8080/",
          "height": 34
        },
        "outputId": "d6707ecd-b8d3-4819-d362-310f12956291"
      },
      "source": [
        "#TASK 1 - PRINT THE NUMBER OF FACES FOUND IN THE PHOTO\n",
        "print(\"Total  {} Members found in this photograph.\".format(len(group_face_locations)))"
      ],
      "execution_count": 12,
      "outputs": [
        {
          "output_type": "stream",
          "text": [
            "Total  3 Members found in this photograph.\n"
          ],
          "name": "stdout"
        }
      ]
    },
    {
      "cell_type": "code",
      "metadata": {
        "id": "-C3DS6fFUDdf",
        "colab_type": "code",
        "colab": {
          "base_uri": "https://localhost:8080/",
          "height": 160
        },
        "outputId": "82a015eb-acab-4cfb-c0b4-c67bf158e760"
      },
      "source": [
        "#KNOWN FACES FROM THE GROUP PHOTO MARKED AS PRESENT\n",
        "for (top, right, bottom, left), face_encoding in zip(group_face_locations, group_face_encodings): \n",
        "        # See if the face is a match for the known face(s)\n",
        "        matches = face_recognition.compare_faces(student_face_encodings, face_encoding,tolerance=0.5)\n",
        "        #name=\"unknown\"\n",
        "        #SPLIT THE FACES FROM GROUP PHOTO\n",
        "        face_image = image[top:bottom, left:right]\n",
        "        pil_image = Image.fromarray(face_image)\n",
        "        #COMPARE FACES FROM GROUP PHOTO TO KNOWN FACES DATASET\n",
        "        face_distances = face_recognition.face_distance(student_face_encodings, face_encoding)\n",
        "        best_match_index = np.argmin(face_distances)\n",
        "        #IF MATCHES FOUND PRINT AS PRESENT\n",
        "        if matches[best_match_index]:\n",
        "            name = student_face_names[best_match_index]\n",
        "            print(name+\" is present\")\n",
        "            display(pil_image)"
      ],
      "execution_count": 25,
      "outputs": [
        {
          "output_type": "stream",
          "text": [
            "sathish is present\n"
          ],
          "name": "stdout"
        },
        {
          "output_type": "display_data",
          "data": {
            "image/png": "[encoded data removed]",
            "text/plain": [
              "<PIL.Image.Image image mode=RGB size=59x59 at 0x7F3B7E448710>"
            ]
          },
          "metadata": {
            "tags": []
          }
        },
        {
          "output_type": "stream",
          "text": [
            "selvaprabu is present\n"
          ],
          "name": "stdout"
        },
        {
          "output_type": "display_data",
          "data": {
            "image/png": "[encoded data removed]",
            "text/plain": [
              "<PIL.Image.Image image mode=RGB size=49x49 at 0x7F3B7E4483C8>"
            ]
          },
          "metadata": {
            "tags": []
          }
        }
      ]
    },
    {
      "cell_type": "code",
      "metadata": {
        "id": "ClGcKn9XVZIe",
        "colab_type": "code",
        "colab": {}
      },
      "source": [
        "#WRITE PRESENT and ABSENT IN CSV FILE"
      ],
      "execution_count": 0,
      "outputs": []
    },
    {
      "cell_type": "code",
      "metadata": {
        "id": "wLHOoJoMVid1",
        "colab_type": "code",
        "colab": {}
      },
      "source": [
        "#SEND MAIL TO ALLSTAFFS FOR PRESENT"
      ],
      "execution_count": 0,
      "outputs": []
    }
  ]
}